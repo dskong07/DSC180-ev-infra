{
 "cells": [
  {
   "cell_type": "code",
   "execution_count": 1,
   "metadata": {},
   "outputs": [],
   "source": [
    "import requests\n",
    "import csv\n",
    "import pandas as pd\n",
    "import json\n",
    "import os\n",
    "import geopandas as gpd\n",
    "import geodatasets\n",
    "import matplotlib.pyplot as plt\n",
    "import numpy as np\n",
    "import re\n",
    "import datetime"
   ]
  },
  {
   "cell_type": "code",
   "execution_count": 113,
   "metadata": {},
   "outputs": [],
   "source": [
    "#  \thttps://data.ca.gov/datastore/odata3.0/d599c3d3-87af-4e8c-8694-9c01f49e3d93 2024\n",
    "#   https://data.ca.gov/datastore/odata3.0/9aa5b4c5-252c-4d68-b1be-ffe19a2f1d26 2023\n",
    "#   https://data.ca.gov/datastore/odata3.0/1856386b-a196-4e7c-be81-44174e29ad50 2022\n",
    "#   https://data.ca.gov/datastore/odata3.0/888bbb6c-09b4-469c-82e6-1b2a47439736 2021\n",
    "#   https://data.ca.gov/datastore/odata3.0/4254a06d-9937-4083-9441-65597dd267e8 2020\n",
    "#   https://data.ca.gov/datastore/odata3.0/d304108a-06c1-462f-a144-981dd0109900 2019\n",
    "#   https://data.ca.gov/dataset/vehicle-fuel-type-count-by-zip-code/resource/8d166753-2a2c-45f1-8529-2a7fc93f3ff5\n",
    "\n",
    "#   https://data.ca.gov/dataset/vehicle-fuel-type-count-by-zip-code\n",
    "resource_ids = {2024:'d599c3d3-87af-4e8c-8694-9c01f49e3d93',2023:'9aa5b4c5-252c-4d68-b1be-ffe19a2f1d26',2022:'1856386b-a196-4e7c-be81-44174e29ad50',\n",
    "                2021:'888bbb6c-09b4-469c-82e6-1b2a47439736',2020:'4254a06d-9937-4083-9441-65597dd267e8',2019:'d304108a-06c1-462f-a144-981dd0109900'}"
   ]
  },
  {
   "cell_type": "code",
   "execution_count": 168,
   "metadata": {},
   "outputs": [],
   "source": [
    "url = 'https://data.ca.gov/api/3/action/datastore_search?limit=10&resource_id=d599c3d3-87af-4e8c-8694-9c01f49e3d93'\n",
    "with requests.get(url) as response:\n",
    "        data = response.json()"
   ]
  },
  {
   "cell_type": "code",
   "execution_count": 169,
   "metadata": {},
   "outputs": [
    {
     "data": {
      "text/plain": [
       "{'help': 'https://data.ca.gov/api/3/action/help_show?name=datastore_search',\n",
       " 'success': True,\n",
       " 'result': {'include_total': True,\n",
       "  'limit': 10,\n",
       "  'records_format': 'objects',\n",
       "  'resource_id': 'd599c3d3-87af-4e8c-8694-9c01f49e3d93',\n",
       "  'total_estimation_threshold': None,\n",
       "  'records': [{'_id': 1,\n",
       "    'Date': '12/31/2023',\n",
       "    'ZIP Code': '91302',\n",
       "    'Model Year': '<2010',\n",
       "    'Fuel': 'Unk',\n",
       "    'Make': 'OTHER/UNK',\n",
       "    'Duty': 'Unk',\n",
       "    'Vehicles': '490'},\n",
       "   {'_id': 2,\n",
       "    'Date': '12/31/2023',\n",
       "    'ZIP Code': '93631',\n",
       "    'Model Year': '<2010',\n",
       "    'Fuel': 'Unk',\n",
       "    'Make': 'OTHER/UNK',\n",
       "    'Duty': 'Unk',\n",
       "    'Vehicles': '414'},\n",
       "   {'_id': 3,\n",
       "    'Date': '12/31/2023',\n",
       "    'ZIP Code': '90603',\n",
       "    'Model Year': '<2010',\n",
       "    'Fuel': 'Unk',\n",
       "    'Make': 'OTHER/UNK',\n",
       "    'Duty': 'Unk',\n",
       "    'Vehicles': '504'},\n",
       "   {'_id': 4,\n",
       "    'Date': '12/31/2023',\n",
       "    'ZIP Code': '93561',\n",
       "    'Model Year': '<2010',\n",
       "    'Fuel': 'Unk',\n",
       "    'Make': 'OTHER/UNK',\n",
       "    'Duty': 'Unk',\n",
       "    'Vehicles': '778'},\n",
       "   {'_id': 5,\n",
       "    'Date': '12/31/2023',\n",
       "    'ZIP Code': '94505',\n",
       "    'Model Year': '<2010',\n",
       "    'Fuel': 'Unk',\n",
       "    'Make': 'OTHER/UNK',\n",
       "    'Duty': 'Unk',\n",
       "    'Vehicles': '387'},\n",
       "   {'_id': 6,\n",
       "    'Date': '12/31/2023',\n",
       "    'ZIP Code': '90606',\n",
       "    'Model Year': '<2010',\n",
       "    'Fuel': 'Unk',\n",
       "    'Make': 'OTHER/UNK',\n",
       "    'Duty': 'Unk',\n",
       "    'Vehicles': '575'},\n",
       "   {'_id': 7,\n",
       "    'Date': '12/31/2023',\n",
       "    'ZIP Code': '92026',\n",
       "    'Model Year': '<2010',\n",
       "    'Fuel': 'Unk',\n",
       "    'Make': 'OTHER/UNK',\n",
       "    'Duty': 'Unk',\n",
       "    'Vehicles': '610'},\n",
       "   {'_id': 8,\n",
       "    'Date': '12/31/2023',\n",
       "    'ZIP Code': '90275',\n",
       "    'Model Year': '<2010',\n",
       "    'Fuel': 'Unk',\n",
       "    'Make': 'OTHER/UNK',\n",
       "    'Duty': 'Unk',\n",
       "    'Vehicles': '761'},\n",
       "   {'_id': 9,\n",
       "    'Date': '12/31/2023',\n",
       "    'ZIP Code': '90024',\n",
       "    'Model Year': '<2010',\n",
       "    'Fuel': 'Unk',\n",
       "    'Make': 'OTHER/UNK',\n",
       "    'Duty': 'Unk',\n",
       "    'Vehicles': '406'},\n",
       "   {'_id': 10,\n",
       "    'Date': '12/31/2023',\n",
       "    'ZIP Code': '92037',\n",
       "    'Model Year': '<2010',\n",
       "    'Fuel': 'Unk',\n",
       "    'Make': 'OTHER/UNK',\n",
       "    'Duty': 'Unk',\n",
       "    'Vehicles': '668'}],\n",
       "  'fields': [{'id': '_id', 'type': 'int'},\n",
       "   {'id': 'Date', 'type': 'text'},\n",
       "   {'id': 'ZIP Code', 'type': 'text'},\n",
       "   {'id': 'Model Year', 'type': 'text'},\n",
       "   {'id': 'Fuel', 'type': 'text'},\n",
       "   {'id': 'Make', 'type': 'text'},\n",
       "   {'id': 'Duty', 'type': 'text'},\n",
       "   {'id': 'Vehicles', 'type': 'text'}],\n",
       "  '_links': {'start': '/api/3/action/datastore_search?limit=10&resource_id=d599c3d3-87af-4e8c-8694-9c01f49e3d93',\n",
       "   'next': '/api/3/action/datastore_search?limit=10&resource_id=d599c3d3-87af-4e8c-8694-9c01f49e3d93&offset=10'},\n",
       "  'total': 499623,\n",
       "  'total_was_estimated': False}}"
      ]
     },
     "execution_count": 169,
     "metadata": {},
     "output_type": "execute_result"
    }
   ],
   "source": [
    "data"
   ]
  },
  {
   "cell_type": "code",
   "execution_count": 223,
   "metadata": {},
   "outputs": [],
   "source": [
    "def get_dataset(resource_id, limit=10000):\n",
    "\n",
    "    #gets all entries from given resource id\n",
    "\n",
    "    url_template_base = 'https://data.ca.gov'\n",
    "    url_template = f'https://data.ca.gov/api/3/action/datastore_search?limit={limit}&resource_id='\n",
    "\n",
    "    d = []\n",
    "    rows = 0\n",
    "    next = False\n",
    "    nextkey = ''\n",
    "    url = url_template + resource_id\n",
    "\n",
    "    with requests.get(url) as response:\n",
    "        data = response.json()\n",
    "        rows = rows + len(data['result']['records'])\n",
    "        d.append(data)\n",
    "        print(rows, 'rows collected')\n",
    "\n",
    "    if data['result']['_links']['next'] != None:\n",
    "        next = True\n",
    "        nextkey = url_template_base + data['result']['_links']['next']\n",
    "\n",
    "    while next:\n",
    "\n",
    "        with requests.get(nextkey) as response:\n",
    "            data = response.json()\n",
    "            rows = rows + len(data['result']['records'])\n",
    "            d.append(data)\n",
    "\n",
    "        if len(data['result']['records']) < limit:\n",
    "            print(rows, 'rows collected total')\n",
    "            next = False\n",
    "        else:\n",
    "            print(rows, 'rows collected')\n",
    "            nextkey = url_template_base+data['result']['_links']['next']\n",
    "    return d\n",
    "    \n",
    "\n",
    "\n",
    "def format_dataset_list(d):\n",
    "    \n",
    "    #formats get_dataset output to list format\n",
    "\n",
    "    new_d = []\n",
    "    for i in range(len(d)):\n",
    "        data = d[i]['result']['records']\n",
    "        new_d = new_d + data\n",
    "    return {'results':new_d}\n",
    "\n",
    "\n",
    "\n",
    "def dataset_to_df(d):\n",
    "    ret = pd.DataFrame(d['results'])\n",
    "    ret['Vehicles'] = ret['Vehicles'].astype('int')\n",
    "    ret.columns = ['year_id', 'date', 'zipcode', 'modelyr', 'fuel', 'make', 'duty',\n",
    "       'num_vehicles']\n",
    "    ret['date'] = pd.to_datetime(ret['date'])\n",
    "    return ret\n",
    "\n",
    "\n",
    "\n",
    "def pipeline(resource_ids,limit = 50000, path='datasets/vehicle_fuel_types/', save_output=False):\n",
    "    ret_list = []\n",
    "    for key in resource_ids:\n",
    "        print(f'working year {key}, resource_id {resource_ids[key]}')\n",
    "        dataset = get_dataset(resource_ids[key], limit)\n",
    "        d_list = format_dataset_list(dataset)\n",
    "        df = dataset_to_df(d_list)\n",
    "        if save_output:\n",
    "            df.to_csv(f'{path}{key}_vehicle_fuel_types.csv')\n",
    "            print(f'{key} dataset saved to {path}{key}_vehicle_fuel_types.csv')\n",
    "        ret_list.append(df)\n",
    "        print(f'year {key} idx={len(ret_list)-1} in ret\\n')\n",
    "    return ret_list\n",
    "\n"
   ]
  },
  {
   "cell_type": "code",
   "execution_count": 212,
   "metadata": {},
   "outputs": [
    {
     "name": "stdout",
     "output_type": "stream",
     "text": [
      "working year 2024, resource_id d599c3d3-87af-4e8c-8694-9c01f49e3d93\n",
      "50000 rows collected\n",
      "100000 rows collected\n",
      "150000 rows collected\n",
      "200000 rows collected\n",
      "250000 rows collected\n",
      "300000 rows collected\n",
      "350000 rows collected\n",
      "400000 rows collected\n",
      "450000 rows collected\n",
      "499623 rows collected total\n",
      "2024 dataset saved to datasets/vehicle_fuel_types/2024_vehicle_fuel_types.csv\n",
      "year 2024 idx=0 in ret\n",
      "\n",
      "working year 2023, resource_id 9aa5b4c5-252c-4d68-b1be-ffe19a2f1d26\n",
      "50000 rows collected\n",
      "100000 rows collected\n",
      "150000 rows collected\n",
      "200000 rows collected\n",
      "250000 rows collected\n",
      "300000 rows collected\n",
      "350000 rows collected\n",
      "400000 rows collected\n",
      "450000 rows collected\n",
      "500000 rows collected\n",
      "550000 rows collected\n",
      "600000 rows collected\n",
      "650000 rows collected\n",
      "700000 rows collected\n",
      "750000 rows collected\n",
      "767054 rows collected total\n",
      "2023 dataset saved to datasets/vehicle_fuel_types/2023_vehicle_fuel_types.csv\n",
      "year 2023 idx=1 in ret\n",
      "\n",
      "working year 2022, resource_id 1856386b-a196-4e7c-be81-44174e29ad50\n",
      "50000 rows collected\n",
      "100000 rows collected\n",
      "150000 rows collected\n",
      "200000 rows collected\n",
      "250000 rows collected\n",
      "300000 rows collected\n",
      "350000 rows collected\n",
      "400000 rows collected\n",
      "450000 rows collected\n",
      "500000 rows collected\n",
      "550000 rows collected\n",
      "600000 rows collected\n",
      "650000 rows collected\n",
      "700000 rows collected\n",
      "722465 rows collected total\n",
      "2022 dataset saved to datasets/vehicle_fuel_types/2022_vehicle_fuel_types.csv\n",
      "year 2022 idx=2 in ret\n",
      "\n",
      "working year 2021, resource_id 888bbb6c-09b4-469c-82e6-1b2a47439736\n",
      "50000 rows collected\n",
      "100000 rows collected\n",
      "150000 rows collected\n",
      "200000 rows collected\n",
      "250000 rows collected\n",
      "300000 rows collected\n",
      "350000 rows collected\n",
      "400000 rows collected\n",
      "450000 rows collected\n",
      "500000 rows collected\n",
      "550000 rows collected\n",
      "600000 rows collected\n",
      "650000 rows collected\n",
      "677969 rows collected total\n",
      "2021 dataset saved to datasets/vehicle_fuel_types/2021_vehicle_fuel_types.csv\n",
      "year 2021 idx=3 in ret\n",
      "\n",
      "working year 2020, resource_id 4254a06d-9937-4083-9441-65597dd267e8\n",
      "50000 rows collected\n",
      "100000 rows collected\n",
      "150000 rows collected\n",
      "200000 rows collected\n",
      "250000 rows collected\n",
      "300000 rows collected\n",
      "350000 rows collected\n",
      "400000 rows collected\n",
      "450000 rows collected\n",
      "500000 rows collected\n",
      "550000 rows collected\n",
      "600000 rows collected\n",
      "602394 rows collected total\n",
      "2020 dataset saved to datasets/vehicle_fuel_types/2020_vehicle_fuel_types.csv\n",
      "year 2020 idx=4 in ret\n",
      "\n",
      "working year 2019, resource_id d304108a-06c1-462f-a144-981dd0109900\n",
      "50000 rows collected\n",
      "100000 rows collected\n",
      "150000 rows collected\n",
      "200000 rows collected\n",
      "250000 rows collected\n",
      "300000 rows collected\n",
      "350000 rows collected\n",
      "400000 rows collected\n",
      "450000 rows collected\n",
      "500000 rows collected\n",
      "550000 rows collected\n",
      "586233 rows collected total\n",
      "2019 dataset saved to datasets/vehicle_fuel_types/2019_vehicle_fuel_types.csv\n",
      "year 2019 idx=5 in ret\n",
      "\n"
     ]
    }
   ],
   "source": [
    "veh_dfs = pipeline(resource_ids,save_output=True)"
   ]
  },
  {
   "cell_type": "code",
   "execution_count": 220,
   "metadata": {},
   "outputs": [],
   "source": [
    "df = pd.concat(veh_dfs)\n",
    "_24 = veh_dfs[0]\n",
    "_23 = veh_dfs[1]\n",
    "_22 = veh_dfs[2]\n",
    "_21 = veh_dfs[3]\n",
    "_20 = veh_dfs[4]\n",
    "_19 = veh_dfs[5]"
   ]
  },
  {
   "cell_type": "code",
   "execution_count": 261,
   "metadata": {},
   "outputs": [],
   "source": [
    "fuels = df.fuel.unique()\n",
    "\n",
    "fuels\n",
    "def get_classes(df):\n",
    "    fuels = df.fuel.unique()\n",
    "    makes = df.make.unique()\n",
    "    duties = df.duty.unique()\n",
    "    return fuels,makes,duties"
   ]
  },
  {
   "cell_type": "code",
   "execution_count": 263,
   "metadata": {},
   "outputs": [
    {
     "data": {
      "text/plain": [
       "array(['Unk', 'Diesel and Diesel Hybrid', 'Gasoline', 'Natural Gas',\n",
       "       'Hybrid Gasoline', 'Flex-Fuel', 'Other', 'Battery Electric',\n",
       "       'Plug-in Hybrid', 'Hydrogen Fuel Cell'], dtype=object)"
      ]
     },
     "execution_count": 263,
     "metadata": {},
     "output_type": "execute_result"
    }
   ],
   "source": [
    "fuels,makes,duties = get_classes(_24)\n",
    "fuels"
   ]
  },
  {
   "cell_type": "code",
   "execution_count": 245,
   "metadata": {},
   "outputs": [
    {
     "name": "stderr",
     "output_type": "stream",
     "text": [
      "C:\\Users\\dskon\\AppData\\Local\\Temp\\ipykernel_88508\\1837585845.py:1: UserWarning: Boolean Series key will be reindexed to match DataFrame index.\n",
      "  vehicles_per_zip = _24[(_24['fuel'] == 'Battery Electric')][(_24['zipcode'] != 'OOS')].groupby('zipcode').num_vehicles.sum()\n"
     ]
    },
    {
     "data": {
      "text/plain": [
       "zipcode\n",
       "99515       1\n",
       "95940       1\n",
       "91976       1\n",
       "95941       1\n",
       "91949       1\n",
       "         ... \n",
       "90045    7064\n",
       "94538    7554\n",
       "90301    7974\n",
       "92618    8170\n",
       "94080    9782\n",
       "Name: num_vehicles, Length: 2398, dtype: int32"
      ]
     },
     "execution_count": 245,
     "metadata": {},
     "output_type": "execute_result"
    }
   ],
   "source": [
    "vehicles_per_zip = _24[(_24['fuel'] == 'Battery Electric')][(_24['zipcode'] != 'OOS')].groupby('zipcode').num_vehicles.sum()\n",
    "vehicles_per_zip.sort_values()"
   ]
  },
  {
   "cell_type": "code",
   "execution_count": 257,
   "metadata": {},
   "outputs": [
    {
     "data": {
      "text/plain": [
       "<Axes: >"
      ]
     },
     "execution_count": 257,
     "metadata": {},
     "output_type": "execute_result"
    },
    {
     "data": {
      "image/png": "[encoded data removed]",
      "text/plain": [
       "<Figure size 640x480 with 1 Axes>"
      ]
     },
     "metadata": {},
     "output_type": "display_data"
    }
   ],
   "source": [
    "vehicles_per_zip.hist(bins=20)"
   ]
  },
  {
   "cell_type": "code",
   "execution_count": null,
   "metadata": {},
   "outputs": [
    {
     "data": {
      "image/png": "[encoded data removed]",
      "text/plain": [
       "<Figure size 2400x500 with 3 Axes>"
      ]
     },
     "metadata": {},
     "output_type": "display_data"
    }
   ],
   "source": [
    "curr_df = _24\n",
    "yr = 2024\n",
    "for f in fuels:\n",
    "        s = curr_df[(curr_df['fuel'] == f) & (curr_df['zipcode'] != 'OOS')].groupby('zipcode').num_vehicles.sum()\n",
    "        fig, ax = plt.subplots(ncols=3, figsize=(24,5))\n",
    "        ax[0].hist(s, bins='fd')\n",
    "        ax[0].set_title(str(yr) +' '+ f)\n",
    "        ax[0].grid()\n",
    "        ax[0].set_xlim(s.min(),s.max())\n",
    "\n",
    "        ax[1].hist(s, bins=100, cumulative=True)\n",
    "        ax[1].set_title(str(yr) +' '+f + \" cumulative\")\n",
    "        ax[1].grid()\n",
    "        ax[1].set_xlim(s.min(),s.max())\n",
    "\n",
    "        count, bins_count = np.histogram(s, bins=20) \n",
    "        pdf = count / sum(count) \n",
    "        cdf = np.cumsum(pdf) \n",
    "\n",
    "        ax[2].plot(bins_count[1:], pdf, color=\"red\", label=\"PDF\") \n",
    "        ax[2].plot(bins_count[1:], cdf, label=\"CDF\") \n",
    "        ax[2].set_title(str(yr) +' '+f + \" cdf/pdf\")\n",
    "\n",
    "        plt.show()\n",
    "    "
   ]
  },
  {
   "cell_type": "code",
   "execution_count": 289,
   "metadata": {},
   "outputs": [
    {
     "data": {
      "text/plain": [
       "9782"
      ]
     },
     "execution_count": 289,
     "metadata": {},
     "output_type": "execute_result"
    }
   ],
   "source": [
    "t = curr_df[(curr_df['fuel'] == 'Battery Electric') & (curr_df['zipcode'] != 'OOS')].groupby('zipcode').num_vehicles.sum()\n",
    "t.max()"
   ]
  },
  {
   "cell_type": "code",
   "execution_count": 310,
   "metadata": {},
   "outputs": [
    {
     "data": {
      "text/plain": [
       "'1/1/2022'"
      ]
     },
     "execution_count": 310,
     "metadata": {},
     "output_type": "execute_result"
    }
   ],
   "source": [
    "_22.date.max()"
   ]
  },
  {
   "cell_type": "code",
   "execution_count": null,
   "metadata": {},
   "outputs": [],
   "source": []
  },
  {
   "cell_type": "code",
   "execution_count": null,
   "metadata": {},
   "outputs": [],
   "source": []
  },
  {
   "cell_type": "code",
   "execution_count": null,
   "metadata": {},
   "outputs": [],
   "source": []
  },
  {
   "cell_type": "code",
   "execution_count": null,
   "metadata": {},
   "outputs": [],
   "source": []
  }
 ],
 "metadata": {
  "kernelspec": {
   "display_name": "Dask",
   "language": "python",
   "name": "python3"
  },
  "language_info": {
   "codemirror_mode": {
    "name": "ipython",
    "version": 3
   },
   "file_extension": ".py",
   "mimetype": "text/x-python",
   "name": "python",
   "nbconvert_exporter": "python",
   "pygments_lexer": "ipython3",
   "version": "3.11.5"
  }
 },
 "nbformat": 4,
 "nbformat_minor": 2
}
