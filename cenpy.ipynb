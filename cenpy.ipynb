{
 "cells": [
  {
   "cell_type": "code",
   "execution_count": null,
   "metadata": {},
   "outputs": [],
   "source": [
    "from cenpy import products\n",
    "import matplotlib.pyplot as plt\n",
    "import osmnx as ox"
   ]
  },
  {
   "cell_type": "code",
   "execution_count": null,
   "metadata": {},
   "outputs": [],
   "source": [
    "sd = products.ACS().from_place('San Diego, CA', level='tract',\n",
    "                                        variables=['B00002*', 'B01002H_001E'])\n"
   ]
  },
  {
   "cell_type": "code",
   "execution_count": null,
   "metadata": {},
   "outputs": [],
   "source": [
    "sd.head()"
   ]
  },
  {
   "cell_type": "code",
   "execution_count": null,
   "metadata": {},
   "outputs": [],
   "source": [
    "f, ax = plt.subplots(1,1,figsize=(20,20))\n",
    "sd.dropna(subset=['B01002H_001E'], axis=0).plot('B01002H_001E', ax=ax, cmap='plasma')\n",
    "ax.set_facecolor('k')"
   ]
  },
  {
   "cell_type": "code",
   "execution_count": null,
   "metadata": {},
   "outputs": [],
   "source": [
    "sd_data = products.ACS().from_place('San Diego, CA', \n",
    "                                           variables=['B02001_001E', 'B02001_003E'])\n",
    "\n"
   ]
  },
  {
   "cell_type": "code",
   "execution_count": null,
   "metadata": {},
   "outputs": [],
   "source": [
    "sd_graph = ox.graph_from_place(\"San Diego, California, USA\", network_type=\"drive\")"
   ]
  },
  {
   "cell_type": "code",
   "execution_count": null,
   "metadata": {},
   "outputs": [],
   "source": [
    "sd_nodes, sd_edges  = ox.graph_to_gdfs(sd_graph)"
   ]
  },
  {
   "cell_type": "code",
   "execution_count": null,
   "metadata": {},
   "outputs": [],
   "source": [
    "sd_data = sd_data.to_crs(sd_edges.crs)"
   ]
  },
  {
   "cell_type": "code",
   "execution_count": null,
   "metadata": {},
   "outputs": [],
   "source": [
    "f,ax = plt.subplots(1,1, figsize=(15,15))\n",
    "sd_data.eval('pct_afam = B02001_003E / B02001_001E')\\\n",
    "        .plot('pct_afam', cmap='plasma', alpha=.6, ax=ax, linewidth=.25, edgecolor='k')\n",
    "sd_edges.plot(linewidth=.25, ax=ax, color='w')\n",
    "ax.axis(sd_edges.total_bounds[[0,2,1,3]])\n",
    "ax.set_title('San Diego, CA\\nAfrican American %')\n",
    "ax.set_facecolor('k')"
   ]
  },
  {
   "cell_type": "code",
   "execution_count": null,
   "metadata": {},
   "outputs": [],
   "source": []
  }
 ],
 "metadata": {
  "kernelspec": {
   "display_name": "dsc180",
   "language": "python",
   "name": "python3"
  },
  "language_info": {
   "codemirror_mode": {
    "name": "ipython",
    "version": 3
   },
   "file_extension": ".py",
   "mimetype": "text/x-python",
   "name": "python",
   "nbconvert_exporter": "python",
   "pygments_lexer": "ipython3",
   "version": "3.11.5"
  }
 },
 "nbformat": 4,
 "nbformat_minor": 2
}
