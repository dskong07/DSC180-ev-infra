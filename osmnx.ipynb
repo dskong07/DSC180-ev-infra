{
 "cells": [
  {
   "cell_type": "code",
   "execution_count": null,
   "metadata": {},
   "outputs": [],
   "source": [
    "import numpy as np\n",
    "import pandas as pd\n",
    "import osmnx as ox\n",
    "import networkx as nx"
   ]
  },
  {
   "cell_type": "code",
   "execution_count": null,
   "metadata": {},
   "outputs": [],
   "source": [
    "G = ox.graph_from_place(\"San Diego, California, USA\", network_type=\"drive\")"
   ]
  },
  {
   "cell_type": "code",
   "execution_count": null,
   "metadata": {},
   "outputs": [],
   "source": []
  },
  {
   "cell_type": "code",
   "execution_count": null,
   "metadata": {},
   "outputs": [],
   "source": [
    "\n",
    "# kazhakootam coordinates\n",
    "ev_station_lat, ev_station_lon = 32.8410150, -117.2730760\n",
    "# medical college coordinates\n",
    "sdge_lat, sdge_lon = 32.82359606106152, -117.14312944370967\n",
    "\n",
    "# fetch the nearest node w.r.t coordinates\n",
    "ev_node = ox.distance.nearest_nodes(G, ev_station_lon, ev_station_lat)\n",
    "sdge_node = ox.distance.nearest_nodes(G,sdge_lon , sdge_lat)\n",
    "\n",
    "print(\"ev charger node: {ev_node}, \\\n",
    "sdge node: {sdge_node}\".format(\n",
    "    ev_node=ev_node, sdge_node=sdge_node))\n",
    "\n",
    "origin = sdge_node\n",
    "destination = ev_node\n",
    "\n",
    "route_nodes = ox.routing.shortest_path(G, origin, destination, weight = \"length\")\n",
    "\n"
   ]
  },
  {
   "cell_type": "code",
   "execution_count": null,
   "metadata": {},
   "outputs": [],
   "source": [
    "fig, ax = ox.plot_graph_route(G, route_nodes, route_color=\"r\", \n",
    "                              route_linewidth=1, node_size=0)"
   ]
  },
  {
   "cell_type": "code",
   "execution_count": null,
   "metadata": {},
   "outputs": [],
   "source": [
    "gdf = ox.routing.route_to_gdf(G, route_nodes)\n",
    "pathlength = np.round((gdf[\"length\"].sum()/1000)/1.609, 2)\n",
    "print(\"Path from 7544 Girard Ave EV Charging Station to SDGE HQ is\", pathlength, 'miles.')"
   ]
  },
  {
   "cell_type": "markdown",
   "metadata": {},
   "source": [
    "### Other exploration"
   ]
  },
  {
   "cell_type": "code",
   "execution_count": null,
   "metadata": {},
   "outputs": [],
   "source": [
    "# save graph to disk as geopackage (for GIS) or graphml file (for gephi etc)\n",
    "ox.save_graph_geopackage(G, filepath=\"./data/mynetwork.gpkg\")\n",
    "ox.save_graphml(G, filepath=\"./data/mynetwork.graphml\")"
   ]
  },
  {
   "cell_type": "code",
   "execution_count": null,
   "metadata": {},
   "outputs": [],
   "source": [
    "# convert graph to line graph so edges become nodes and vice versa\n",
    "edge_centrality = nx.closeness_centrality(nx.line_graph(G))\n",
    "nx.set_edge_attributes(G, edge_centrality, \"edge_centrality\")\n",
    "\n",
    "# color edges in original graph with closeness centralities from line graph\n",
    "ec = ox.plot.get_edge_colors_by_attr(G, \"edge_centrality\", cmap=\"inferno\")\n",
    "fig, ax = ox.plot_graph(G, edge_color=ec, edge_linewidth=2, node_size=0)\n",
    "\n"
   ]
  },
  {
   "cell_type": "code",
   "execution_count": null,
   "metadata": {},
   "outputs": [],
   "source": []
  },
  {
   "cell_type": "code",
   "execution_count": null,
   "metadata": {},
   "outputs": [],
   "source": []
  }
 ],
 "metadata": {
  "kernelspec": {
   "display_name": "Dask",
   "language": "python",
   "name": "python3"
  },
  "language_info": {
   "codemirror_mode": {
    "name": "ipython",
    "version": 3
   },
   "file_extension": ".py",
   "mimetype": "text/x-python",
   "name": "python",
   "nbconvert_exporter": "python",
   "pygments_lexer": "ipython3",
   "version": "3.11.5"
  }
 },
 "nbformat": 4,
 "nbformat_minor": 2
}
