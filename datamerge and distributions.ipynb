{
 "cells": [
  {
   "cell_type": "code",
   "execution_count": null,
   "metadata": {},
   "outputs": [],
   "source": [
    "import requests\n",
    "import csv\n",
    "import pandas as pd\n",
    "import json\n",
    "import os\n",
    "import geopandas as gpd\n",
    "import geodatasets\n",
    "import matplotlib.pyplot as plt\n",
    "import numpy as np\n",
    "import re\n",
    "import datetime\n",
    "import statsmodels as sm\n",
    "from sklearn.experimental import enable_iterative_imputer\n",
    "from sklearn.impute import IterativeImputer\n",
    "from statsmodels.discrete.discrete_model import Poisson\n",
    "import warnings\n",
    "warnings.filterwarnings('ignore')"
   ]
  },
  {
   "cell_type": "markdown",
   "metadata": {},
   "source": [
    "# Data Preprocessing\n",
    "** NOTE: If vehicle_fuel_types_eda.ipynb (VFT_EDA) has not been run yet, please refer to that notebook first, as the datasets referenced henceforth are generated via that notebook"
   ]
  },
  {
   "cell_type": "markdown",
   "metadata": {},
   "source": [
    "Generally, the datasets used are generated from API calls referenced in the VFT_EDA notebook. If you are using the downloaded versions, please refer to the further cells in regards to the preprocessing for those."
   ]
  },
  {
   "cell_type": "code",
   "execution_count": null,
   "metadata": {},
   "outputs": [],
   "source": [
    "# the datasets have been redacted for security reasons requested by SDG&E,\n",
    "# and is not uploaded in the repo. For inquiries about the dataset, please refer to the README.md \n",
    "# or contact me/the supervisor for this section.\n",
    "\n",
    "# replace with local directory for the vehicle fuel type dataset for respective years.\n",
    "# if no local datasets exist, refer to vehicle_fuel_types_eda.ipynb API or direct download for guidance.\n",
    "read_columns = [2,3,4,5,6,7,8]\n",
    "\n",
    "\n",
    "_2019 = pd.read_csv('TODO:2019 DATASET',usecols=read_columns)\n",
    "_2020 = pd.read_csv('TODO:2020 DATASET',usecols=read_columns)\n",
    "_2021 = pd.read_csv('TODO:2021 DATASET',usecols=read_columns)\n",
    "_2022 = pd.read_csv('TODO:2022 DATASET',usecols=read_columns)\n",
    "_2023 = pd.read_csv('TODO:2023 DATASET',usecols=read_columns)\n",
    "_2024 = pd.read_csv('TODO:2024 DATASET',usecols=read_columns)\n",
    "\n",
    "\n",
    "\n",
    "df_list = [_2019,_2020,_2021,_2022,_2023,_2024]\n",
    "for yr_df in df_list:\n",
    "    yr_df.columns = ['date','zipcode','modelyr','fuel','make','duty','num_vehicles']\n",
    "\n",
    "_2019.zipcode = _2019.zipcode.replace('Other', 'OOS')\n",
    "\n",
    "#_2019['num_vehicles'].sum(),_2020['num_vehicles'].sum() , _2021['num_vehicles'].sum(),_2022['num_vehicles'].sum(), _2023['num_vehicles'].sum(), _2024['num_vehicles'].sum(),"
   ]
  },
  {
   "cell_type": "code",
   "execution_count": null,
   "metadata": {},
   "outputs": [],
   "source": [
    "_2019.head()"
   ]
  },
  {
   "cell_type": "code",
   "execution_count": null,
   "metadata": {},
   "outputs": [],
   "source": [
    "#TESTING different preprocessing strategies\n",
    "\n",
    "non_ev_fuels = ['Gasoline', 'Diesel and Diesel Hybrid',\n",
    "       'Other', 'Flex-Fuel', 'Hybrid Gasoline', 'Natural Gas',\n",
    "       'Plug-in Hybrid', 'Hydrogen Fuel Cell', 'Unk']\n",
    "\n",
    "def fix(df):\n",
    "    df['zipcode'] = df.zipcode.astype('str')\n",
    "    ret = df[df.fuel == 'Battery Electric']\n",
    "    ret = ret.groupby('zipcode')['num_vehicles'].sum()\n",
    "    \n",
    "    return ret\n",
    "\n",
    "def fix_alt(df):\n",
    "    df['zipcode'] = df.zipcode.astype('str')\n",
    "    df['fuel'] = df['fuel'].replace(non_ev_fuels, 'not battery')\n",
    "    ret = df\n",
    "    ret = ret.groupby(['zipcode','fuel'])['num_vehicles'].sum()\n",
    "    return ret\n"
   ]
  },
  {
   "cell_type": "code",
   "execution_count": null,
   "metadata": {},
   "outputs": [],
   "source": [
    "df24 = fix_alt(_2024)\n",
    "df23 = fix_alt(_2023)\n",
    "df22 = fix_alt(_2022)\n",
    "df21 = fix_alt(_2021)\n",
    "df20 = fix_alt(_2020)\n",
    "df19 = fix_alt(_2019)\n",
    "dfl = [df19,df20,df21,df22,df23,df24]"
   ]
  },
  {
   "cell_type": "code",
   "execution_count": null,
   "metadata": {},
   "outputs": [],
   "source": [
    "df = pd.concat(dfl, axis = 1)\n",
    "cols = [2019,2020,2021,2022,2023,2024]\n",
    "df.columns = cols"
   ]
  },
  {
   "cell_type": "code",
   "execution_count": null,
   "metadata": {},
   "outputs": [],
   "source": [
    "df.head()"
   ]
  },
  {
   "cell_type": "markdown",
   "metadata": {},
   "source": [
    "## IF USING THE DOWNLOADED DATASETS, RUN THE CELLS BELOW. \n",
    "uncomment the last line in the next cell if you only plan to use the downloaded datasets."
   ]
  },
  {
   "cell_type": "code",
   "execution_count": null,
   "metadata": {},
   "outputs": [],
   "source": [
    "# testing non-api data for any discrepancies.\n",
    "# refer to VFT_EDA notebook for reference for direct download datasets. \n",
    "# !! if only using one dataset, rather than both the API call and the direct download, ignore this cell. !! \n",
    "\n",
    "_19 = pd.read_csv('TODO:2019 DATASET')\n",
    "_20 = pd.read_csv('TODO:2020 DATASET')\n",
    "_21 = pd.read_csv('TODO:2021 DATASET')\n",
    "_22 = pd.read_csv('TODO:2022 DATASET')\n",
    "_23 = pd.read_csv('TODO:2023 DATASET')\n",
    "_24 = pd.read_csv('TODO:2024 DATASET')\n",
    "df_list = [_19,_20,_21,_22,_23,_24]\n",
    "\n",
    "for dataf in df_list:\n",
    "    dataf.columns = ['date','zipcode','modelyr','fuel','make','duty','num_vehicles']\n",
    "\n",
    "_19['zipcode'] = _19['zipcode'].replace('Other', 'OOS')\n",
    "\n",
    "t19 = fix_alt(_19)\n",
    "t20 = fix_alt(_20)\n",
    "t21 = fix_alt(_21)\n",
    "t22 = fix_alt(_22)\n",
    "t23 = fix_alt(_23)\n",
    "t24 = fix_alt(_24)\n",
    "\n",
    "df_nonapi = pd.concat([t19,t20,t21,t22,t23,t24],axis=1)\n",
    "df_nonapi.columns = cols\n",
    "df_nonapi.head(10)\n",
    "\n",
    "#df = df_nonapi"
   ]
  },
  {
   "cell_type": "markdown",
   "metadata": {},
   "source": [
    "## Imputing \n",
    "the missing values are imputed based on the assumed distribution derived from the numbers of registered NON-EV categories of cars per zip code"
   ]
  },
  {
   "cell_type": "code",
   "execution_count": null,
   "metadata": {},
   "outputs": [],
   "source": [
    "# imputing based on the distribution of all other cars\n",
    "\n",
    "df = df.reset_index()\n",
    "df2 = df[df['fuel'] == 'Battery Electric']\n",
    "nonbat = None\n",
    "for zip in df2.zipcode.unique():\n",
    "    imp = IterativeImputer(max_iter=10, random_state=0)\n",
    "\n",
    "    both = df[df['zipcode'] == zip ]\n",
    "    battery = both[both['fuel'] == 'Battery Electric']\n",
    "    nonbat = both[both['fuel'] != 'Battery Electric']\n",
    "    if nonbat.isnull().values.any() or len(nonbat) < 1: continue\n",
    "    if battery.isnull().values.any() :\n",
    "        idx = battery.index.astype(int)[0]\n",
    "        res = imp.fit_transform(np.stack(np.array(both[[2019,2020,2021,2022,2023,2024]]),axis=1))\n",
    "        repl = np.split(res, 2, axis=1)[0].flatten()\n",
    "        df.iloc[idx, 2:] = repl"
   ]
  },
  {
   "cell_type": "code",
   "execution_count": null,
   "metadata": {},
   "outputs": [],
   "source": [
    "df2 = df[df['fuel'] == 'Battery Electric']\n",
    "df2 = df2.fillna(0) # if there are no non-battery cars, fill with 0\n",
    "df2 = df2.set_index(['zipcode']).drop('fuel', axis=1)\n",
    "evs_cum_peryr = df2\n",
    "evs_cum_peryr.head()"
   ]
  },
  {
   "cell_type": "markdown",
   "metadata": {},
   "source": [
    "# Poisson distribution fitting\n",
    "The number of NEW (or decrease in some cases) registrations per year (the difference from year to year) fitted to a lambda value for a poisson distribution"
   ]
  },
  {
   "cell_type": "code",
   "execution_count": null,
   "metadata": {},
   "outputs": [],
   "source": [
    "ev_regs_peryr = df2.diff(axis=1) #per year change\n",
    "ev_regs_peryr = ev_regs_peryr.drop(2019,axis=1)\n",
    "\n",
    "zip_lambs = {}\n",
    "for i in range(len(ev_regs_peryr)):\n",
    "    row = ev_regs_peryr.iloc[i]\n",
    "    model = Poisson(endog=row, exog = [1,2,3,4,5]).fit(disp=0)\n",
    "    zip_lambs[row.name] = model.params[0]\n",
    "\n",
    "lambdas_df = pd.DataFrame.from_dict(zip_lambs,orient='index', columns=['lambdas'])\n",
    "lambdas_df.index = lambdas_df.index.set_names('zip code')"
   ]
  },
  {
   "cell_type": "code",
   "execution_count": null,
   "metadata": {},
   "outputs": [],
   "source": [
    "lambdas_df.head()"
   ]
  },
  {
   "cell_type": "code",
   "execution_count": null,
   "metadata": {},
   "outputs": [],
   "source": [
    "#distribution of lambda values\n",
    "\n",
    "plot_df = lambdas_df.dropna()\n",
    "plt.hist(plot_df['lambdas'], bins=20)\n",
    "plt.show()"
   ]
  },
  {
   "cell_type": "code",
   "execution_count": null,
   "metadata": {},
   "outputs": [],
   "source": [
    "#new ev registrations per year across all zips\n",
    "ev_regs_peryr.sum().plot()"
   ]
  },
  {
   "cell_type": "markdown",
   "metadata": {},
   "source": [
    "# Combining AFDC datasets with the vehicle fuel types dataset and visualization\n",
    "The datasets used here are generated from the AFDC eda. Please run that notebook first. references to datasets are given in the cells relevant."
   ]
  },
  {
   "cell_type": "code",
   "execution_count": null,
   "metadata": {},
   "outputs": [],
   "source": [
    "# the data used is pulled from the AFDC alternative fuel stations dataset api in !!geojson!! format. \n",
    "# The parameters are state = CA and fuel_type = ELEC.\n",
    "# refer to the afdc eda and exploration notebook for guidance on how to use the AFDC dataset. \n",
    "# the string should be replaced with something that looks like: \n",
    "# \"https://developer.nrel.gov/api/alt-fuel-stations/v1.geojson?api_key=APIKEY&state=CA&fuel_type=ELEC\"\n",
    "apikey = 'TODO'\n",
    "url = f'https://developer.nrel.gov/api/alt-fuel-stations/v1.geojson?api_key={apikey}&state=CA&fuel_type=ELEC'\n",
    "url_geo_evonly = url\n",
    "with requests.get(url_geo_evonly) as response:\n",
    "    geodata = response.json()\n"
   ]
  },
  {
   "cell_type": "code",
   "execution_count": null,
   "metadata": {},
   "outputs": [],
   "source": [
    "geodf = gpd.GeoDataFrame.from_features(geodata, crs = 4326)"
   ]
  },
  {
   "cell_type": "code",
   "execution_count": null,
   "metadata": {},
   "outputs": [],
   "source": [
    "# source of zip code data gathered from https://gis.data.ca.gov/datasets/CDEGIS::california-zip-codes/about\n",
    "# download the geojson and replace the file path, or just use the given file link.\n",
    "# also contains zip code population, used in the visualization\n",
    "\n",
    "#fp = 'TODO'\n",
    "fp = 'https://stg-arcgisazurecdataprod3.az.arcgis.com/exportfiles-39966-259/ZipCodes_-1049704744535259894.geojson?sv=2018-03-28&sr=b&sig=8vnjMFNkWmcmve84YoHGzsaI%2F2KEFu4v9KGjuXwrXWs%3D&se=2024-12-04T03%3A52%3A50Z&sp=r'\n",
    "zip_geodata = gpd.GeoDataFrame.from_file(fp)\n",
    "zip_geodata['zipcode'] = zip_geodata['ZIP_CODE']\n",
    "zip_geodata = zip_geodata.drop('ZIP_CODE', axis = 1)"
   ]
  },
  {
   "cell_type": "code",
   "execution_count": null,
   "metadata": {},
   "outputs": [],
   "source": [
    "# the dataset used here is the saved file of the 2024 vehicle fuel type dataset, referenced in the VFT_EDA notebook as _2024 or _24.\n",
    "\n",
    "df = _2024\n",
    "df = df[df['fuel'] == 'Battery Electric']\n",
    "df = df.groupby('zipcode')['num_vehicles'].sum().reset_index()\n",
    "#df['zipcode'] = df['ZIP Code']\n",
    "df = df.set_index('zipcode')"
   ]
  },
  {
   "cell_type": "code",
   "execution_count": null,
   "metadata": {},
   "outputs": [],
   "source": [
    "zip_geodata['zipcode']\n",
    "newdf = zip_geodata.join(df, on='zipcode')\n",
    "\n",
    "newdf1 = newdf.dropna()\n",
    "newdf1 = newdf1[newdf1['POPULATION']>10]\n",
    "newdf1['ev_per_capita'] = (newdf1['num_vehicles']/(newdf1['POPULATION']+1)).round(4)*1000\n"
   ]
  },
  {
   "cell_type": "code",
   "execution_count": null,
   "metadata": {},
   "outputs": [],
   "source": [
    "# cloropleth represents number of ev registrations in each zip code, lighter = more, darker = less\n",
    "# overlay of ev charging stations\n",
    "m = newdf.explore(\n",
    "    column='num_vehicles',\n",
    "    scheme='stdmean',\n",
    "    k=6,\n",
    "    popup=['PO_NAME','zipcode','num_vehicles'])\n",
    "\n",
    "geodf.explore(\n",
    "    m=m,\n",
    "    marker_kwds=dict(radius=3, fill=False),\n",
    "    color='Orange',\n",
    "    tooltip = 'street_address',\n",
    "    tooltip_kwds=dict(labels=False),\n",
    "    column='fuel_type_code')"
   ]
  },
  {
   "cell_type": "code",
   "execution_count": null,
   "metadata": {},
   "outputs": [],
   "source": [
    "# cloropleth represents number of ev registrations per capita in each zip code, lighter = more, darker = less\n",
    "# overlay of ev charging stations\n",
    "m = newdf1.explore(\n",
    "    column = 'ev_per_capita',\n",
    "    scheme='stdmean',\n",
    "    k=10,\n",
    ")\n",
    "\n",
    "geodf.explore(\n",
    "    m=m,\n",
    "    marker_kwds=dict(radius=3, fill=False),\n",
    "    color='Orange',\n",
    "    tooltip = 'street_address',\n",
    "    tooltip_kwds=dict(labels=False),\n",
    "    column='fuel_type_code')"
   ]
  },
  {
   "cell_type": "code",
   "execution_count": null,
   "metadata": {},
   "outputs": [],
   "source": []
  },
  {
   "cell_type": "code",
   "execution_count": null,
   "metadata": {},
   "outputs": [],
   "source": []
  }
 ],
 "metadata": {
  "kernelspec": {
   "display_name": "dsc180",
   "language": "python",
   "name": "python3"
  },
  "language_info": {
   "codemirror_mode": {
    "name": "ipython",
    "version": 3
   },
   "file_extension": ".py",
   "mimetype": "text/x-python",
   "name": "python",
   "nbconvert_exporter": "python",
   "pygments_lexer": "ipython3",
   "version": "3.11.5"
  }
 },
 "nbformat": 4,
 "nbformat_minor": 2
}
